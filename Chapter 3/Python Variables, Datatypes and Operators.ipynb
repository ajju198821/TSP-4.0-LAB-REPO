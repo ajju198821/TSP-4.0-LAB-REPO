{
 "cells": [
  {
   "attachments": {
    "image.png": {
     "image/png": "[encoded data removed]"
    }
   },
   "cell_type": "markdown",
   "id": "d4623bfe",
   "metadata": {},
   "source": [
    "![image.png](attachment:image.png)"
   ]
  },
  {
   "cell_type": "markdown",
   "id": "adaa652c",
   "metadata": {},
   "source": [
    "# Edunet Foundation : Class Room Exercises"
   ]
  },
  {
   "cell_type": "markdown",
   "id": "3bcb89c8",
   "metadata": {},
   "source": [
    "# Lab # : Python Variables, Datatypes and Operators\n",
    "\n",
    "### Objective:\n",
    "\n",
    "The objective of this practical on Python Variables, Datatypes, and Operators is to provide a foundational understanding of how to work with data in Python. By the end of this lesson, learners will be able to:\n",
    "\n",
    "- Define and use variables to store data.\n",
    "- Identify and utilize different datatypes such as integers, floats, strings, and booleans.\n",
    "- Perform operations using arithmetic, comparison, and logical operators.\n",
    "- Apply best practices for naming variables and writing clean, readable code.\n",
    "\n",
    "This knowledge will enable learners to write efficient Python programs, manipulate data effectively, and build a strong foundation for more advanced programming concepts."
   ]
  },
  {
   "cell_type": "markdown",
   "id": "b9a6e9bd-6a91-4ee9-bd80-8bdaf361efab",
   "metadata": {},
   "source": [
    "## Python Variables"
   ]
  },
  {
   "cell_type": "markdown",
   "id": "2609095f-31d7-4a27-9052-fe6000c7ded3",
   "metadata": {},
   "source": [
    "Variables are containers for storing data values."
   ]
  },
  {
   "cell_type": "markdown",
   "id": "45c57814-dd80-4b3c-9043-2f9afadf8788",
   "metadata": {},
   "source": [
    "## Creating Variables\n",
    "Python has no command for declaring a variable.\n",
    "\n",
    "A variable is created the moment you first assign a value to it.\n",
    "\n",
    "Example"
   ]
  },
  {
   "cell_type": "code",
   "execution_count": 1,
   "id": "bee549a9-8fba-4e07-bc9f-f813c65de670",
   "metadata": {},
   "outputs": [
    {
     "name": "stdout",
     "output_type": "stream",
     "text": [
      "5\n",
      "John\n"
     ]
    }
   ],
   "source": [
    "x = 5\n",
    "y = \"John\"\n",
    "print(x)\n",
    "print(y)"
   ]
  },
  {
   "cell_type": "markdown",
   "id": "917bb509-3bd0-4025-aec8-da81c9d266c5",
   "metadata": {},
   "source": [
    "Variables do not need to be declared with any particular type, and can even change type after they have been set."
   ]
  },
  {
   "cell_type": "code",
   "execution_count": 2,
   "id": "52758b65-fa3a-456b-aa79-0ce8ab44dc9f",
   "metadata": {},
   "outputs": [
    {
     "name": "stdout",
     "output_type": "stream",
     "text": [
      "Sally\n"
     ]
    }
   ],
   "source": [
    "x = 4       # x is of type int\n",
    "x = \"Sally\" # x is now of type str\n",
    "print(x)"
   ]
  },
  {
   "cell_type": "markdown",
   "id": "3f8e8b2a-cf55-4e8a-9a8f-08011c772c1a",
   "metadata": {},
   "source": [
    "#### Casting\n",
    "If you want to specify the data type of a variable, this can be done with casting."
   ]
  },
  {
   "cell_type": "code",
   "execution_count": 3,
   "id": "9c7622b5-06d3-4fd0-97ed-cdfde673f7f8",
   "metadata": {},
   "outputs": [],
   "source": [
    "x = str(3)    # x will be '3'\n",
    "y = int(3)    # y will be 3\n",
    "z = float(3)  # z will be 3.0"
   ]
  },
  {
   "cell_type": "markdown",
   "id": "03f0df4e-73e9-4002-99e4-b87ea0fa6989",
   "metadata": {},
   "source": [
    "#### Get the Type\n",
    "You can get the data type of a variable with the type() function."
   ]
  },
  {
   "cell_type": "code",
   "execution_count": 4,
   "id": "e20c7238-fca3-4049-96a3-d0c3b622356c",
   "metadata": {},
   "outputs": [
    {
     "name": "stdout",
     "output_type": "stream",
     "text": [
      "<class 'int'>\n",
      "<class 'str'>\n"
     ]
    }
   ],
   "source": [
    "x = 5\n",
    "y = \"John\"\n",
    "print(type(x))\n",
    "print(type(y))"
   ]
  },
  {
   "cell_type": "markdown",
   "id": "447453b3-6974-4b80-a5d7-e6c965a0a6a4",
   "metadata": {},
   "source": [
    "#### Variable Names\n",
    "A variable can have a short name (like x and y) or a more descriptive name (age, carname, total_volume). Rules for Python variables:\n",
    "- A variable name must start with a letter or the underscore character\n",
    "- A variable name cannot start with a number\n",
    "- A variable name can only contain alpha-numeric characters and underscores (A-z, 0-9, and _ )\n",
    "- Variable names are case-sensitive (age, Age and AGE are three different variables)\n",
    "- A variable name cannot be any of the Python keywords."
   ]
  },
  {
   "cell_type": "markdown",
   "id": "81a60d3c-ddd0-430d-9392-60900ea444b9",
   "metadata": {},
   "source": [
    "### Python - Output Variables"
   ]
  },
  {
   "cell_type": "markdown",
   "id": "cf68cb3c-6597-4eb0-9b7f-19ce7889f921",
   "metadata": {},
   "source": [
    "#### Output Variables\n",
    "The Python print() function is often used to output variables."
   ]
  },
  {
   "cell_type": "code",
   "execution_count": 5,
   "id": "40a9a154-188f-4ad4-9866-95ad8fa77eef",
   "metadata": {},
   "outputs": [
    {
     "name": "stdout",
     "output_type": "stream",
     "text": [
      "Python is awesome\n"
     ]
    }
   ],
   "source": [
    "x = \"Python is awesome\"\n",
    "print(x)"
   ]
  },
  {
   "cell_type": "markdown",
   "id": "5214e1de-a2c2-4e26-aca8-da6195af6d1a",
   "metadata": {},
   "source": [
    "In the print() function, you output multiple variables, separated by a comma:"
   ]
  },
  {
   "cell_type": "code",
   "execution_count": 6,
   "id": "8ee8f55f-54f5-4cff-9f74-72035f95e72e",
   "metadata": {},
   "outputs": [
    {
     "name": "stdout",
     "output_type": "stream",
     "text": [
      "Python is awesome\n"
     ]
    }
   ],
   "source": [
    "x = \"Python\"\n",
    "y = \"is\"\n",
    "z = \"awesome\"\n",
    "print(x, y, z)"
   ]
  },
  {
   "cell_type": "markdown",
   "id": "80c01ee4-d43f-4056-b809-deb43fac40b3",
   "metadata": {},
   "source": [
    "You can also use the + operator to output multiple variables:"
   ]
  },
  {
   "cell_type": "code",
   "execution_count": 7,
   "id": "0df74f3c-b83f-4267-8ea8-d72e82122bb7",
   "metadata": {},
   "outputs": [
    {
     "name": "stdout",
     "output_type": "stream",
     "text": [
      "Python is awesome\n"
     ]
    }
   ],
   "source": [
    "x = \"Python \"\n",
    "y = \"is \"\n",
    "z = \"awesome\"\n",
    "print(x + y + z)"
   ]
  },
  {
   "cell_type": "markdown",
   "id": "f40e6a28-ca78-4523-86b4-fc304a5b7f3e",
   "metadata": {},
   "source": [
    "For numbers, the + character works as a mathematical operator:"
   ]
  },
  {
   "cell_type": "code",
   "execution_count": 8,
   "id": "0356841d-e545-4528-a82a-09302ea26a28",
   "metadata": {},
   "outputs": [
    {
     "name": "stdout",
     "output_type": "stream",
     "text": [
      "15\n"
     ]
    }
   ],
   "source": [
    "x = 5\n",
    "y = 10\n",
    "print(x + y)"
   ]
  },
  {
   "cell_type": "markdown",
   "id": "3bbd274c-2cb8-487a-89e6-c73076c46170",
   "metadata": {},
   "source": [
    "### Global Variables\n",
    "Variables that are created outside of a function (as in all of the examples in the previous pages) are known as global variables.\n",
    "\n",
    "Global variables can be used by everyone, both inside of functions and outside."
   ]
  },
  {
   "cell_type": "code",
   "execution_count": 9,
   "id": "03993893-fe45-458d-99e1-c0d1914efdf1",
   "metadata": {},
   "outputs": [
    {
     "name": "stdout",
     "output_type": "stream",
     "text": [
      "Python is awesome\n"
     ]
    }
   ],
   "source": [
    "x = \"awesome\"\n",
    "\n",
    "def myfunc():\n",
    "  print(\"Python is \" + x)\n",
    "\n",
    "myfunc()"
   ]
  },
  {
   "cell_type": "markdown",
   "id": "8737f9ba-8884-4413-9abd-e5f7bc0dc365",
   "metadata": {},
   "source": [
    "To create a global variable inside a function, you can use the global keyword."
   ]
  },
  {
   "cell_type": "code",
   "execution_count": 10,
   "id": "04a7f979-0879-43a5-943d-71ef6b65d74a",
   "metadata": {},
   "outputs": [
    {
     "name": "stdout",
     "output_type": "stream",
     "text": [
      "Python is fantastic\n"
     ]
    }
   ],
   "source": [
    "def myfunc():\n",
    "  global x\n",
    "  x = \"fantastic\"\n",
    "\n",
    "myfunc()\n",
    "\n",
    "print(\"Python is \" + x)"
   ]
  },
  {
   "cell_type": "markdown",
   "id": "4ac2855d-177f-4b46-baa2-52a567102a29",
   "metadata": {},
   "source": [
    "### Python Data Types"
   ]
  },
  {
   "cell_type": "markdown",
   "id": "983dc0a7-8788-41da-8e05-5b2b513fbe67",
   "metadata": {},
   "source": [
    "### Built-in Data Types\n",
    "In programming, data type is an important concept.\n",
    "\n",
    "Variables can store data of different types, and different types can do different things.\n",
    "\n",
    "Python has the following data types built-in by default, in these categories:"
   ]
  },
  {
   "attachments": {
    "555168a8-5573-45f6-91e0-11618a953a19.png": {
     "image/png": "[encoded data removed]"
    }
   },
   "cell_type": "markdown",
   "id": "c89be543-776f-45e1-bf04-3fa3cae4cc6d",
   "metadata": {},
   "source": [
    "![image.png](attachment:555168a8-5573-45f6-91e0-11618a953a19.png)"
   ]
  },
  {
   "cell_type": "markdown",
   "id": "a439143d-9fab-40a5-a9ca-2bab1bf51ed9",
   "metadata": {},
   "source": [
    "#### Getting the Data Type\n",
    "You can get the data type of any object by using the type() function:"
   ]
  },
  {
   "cell_type": "code",
   "execution_count": 11,
   "id": "7eac9dfd-8388-4ce5-bb11-3573293d7679",
   "metadata": {},
   "outputs": [
    {
     "name": "stdout",
     "output_type": "stream",
     "text": [
      "<class 'int'>\n"
     ]
    }
   ],
   "source": [
    "x = 5\n",
    "print(type(x))"
   ]
  },
  {
   "cell_type": "markdown",
   "id": "bae34f24-ab45-4798-ab9e-56eab5ebfe41",
   "metadata": {},
   "source": [
    "#### Setting the Data Type\n",
    "In Python, the data type is set when you assign a value to a variable:"
   ]
  },
  {
   "cell_type": "code",
   "execution_count": 13,
   "id": "57d98b96-d5b9-4a03-afe5-fed803bd4ecc",
   "metadata": {},
   "outputs": [
    {
     "name": "stdout",
     "output_type": "stream",
     "text": [
      "<class 'str'>\n",
      "<class 'int'>\n",
      "<class 'float'>\n",
      "<class 'list'>\n",
      "<class 'tuple'>\n",
      "<class 'bool'>\n"
     ]
    }
   ],
   "source": [
    "a = \"Hello World\"\n",
    "b = 20\n",
    "c = 20.5\n",
    "d = [\"apple\", \"banana\", \"cherry\"]\n",
    "e = (\"apple\", \"banana\", \"cherry\")\n",
    "f = True\n",
    "print(type(a))\n",
    "print(type(b))\n",
    "print(type(c))\n",
    "print(type(d))\n",
    "print(type(e))\n",
    "print(type(f))"
   ]
  },
  {
   "cell_type": "markdown",
   "id": "5b573130-d345-4665-8dd3-2c6846c3d899",
   "metadata": {},
   "source": [
    "### Text Type"
   ]
  },
  {
   "cell_type": "code",
   "execution_count": 14,
   "id": "8886df10-3b46-458b-9817-05ac6a90aa91",
   "metadata": {},
   "outputs": [
    {
     "name": "stdout",
     "output_type": "stream",
     "text": [
      "Welcome to Edunet\n",
      "Welcome to Edunet\n",
      "TSP 4.0\n"
     ]
    }
   ],
   "source": [
    "A='Welcome to Edunet'\n",
    "a='Welcome to Edunet'\n",
    "b=\"TSP 4.0\"\n",
    "print(a)\n",
    "print(A)\n",
    "print(b)"
   ]
  },
  {
   "cell_type": "code",
   "execution_count": 15,
   "id": "7c33eace-521d-45b4-865a-235bcdd3dd5f",
   "metadata": {},
   "outputs": [
    {
     "data": {
      "text/plain": [
       "' You can assign a multiline string to a variable by using three quotes'"
      ]
     },
     "execution_count": 15,
     "metadata": {},
     "output_type": "execute_result"
    }
   ],
   "source": [
    "c=''' You can assign a multiline string to a variable by using three quotes'''\n",
    "c"
   ]
  },
  {
   "cell_type": "code",
   "execution_count": 16,
   "id": "9ef19d71-1af6-41c9-87e5-fdaebdb57536",
   "metadata": {},
   "outputs": [
    {
     "name": "stdout",
     "output_type": "stream",
     "text": [
      "e\n"
     ]
    }
   ],
   "source": [
    "a = \"Hello, World!\"\n",
    "print(a[1])"
   ]
  },
  {
   "cell_type": "markdown",
   "id": "e68f4524-2007-4593-8f01-55b3f3cc2dcb",
   "metadata": {},
   "source": [
    "### Looping Through a String\n",
    "Since strings are arrays, we can loop through the characters in a string, with a for loop."
   ]
  },
  {
   "cell_type": "code",
   "execution_count": 17,
   "id": "186c865e-2f37-46a0-85cd-01908e30e248",
   "metadata": {},
   "outputs": [
    {
     "name": "stdout",
     "output_type": "stream",
     "text": [
      "b\n",
      "a\n",
      "n\n",
      "a\n",
      "n\n",
      "a\n"
     ]
    }
   ],
   "source": [
    "for x in \"banana\":\n",
    "  print(x)"
   ]
  },
  {
   "cell_type": "markdown",
   "id": "66cce803-a73f-4bb0-ab07-835e16f2b3a9",
   "metadata": {},
   "source": [
    "### Python Numbers"
   ]
  },
  {
   "cell_type": "code",
   "execution_count": 19,
   "id": "a758d4b0-95af-4ef0-a3a0-9675f8a88b34",
   "metadata": {},
   "outputs": [
    {
     "name": "stdout",
     "output_type": "stream",
     "text": [
      "<class 'int'>\n",
      "<class 'float'>\n",
      "<class 'complex'>\n"
     ]
    }
   ],
   "source": [
    "x = 1    # int\n",
    "y = 2.8  # float\n",
    "z = 1j   # complex\n",
    "print(type(x))\n",
    "print(type(y))\n",
    "print(type(z))"
   ]
  },
  {
   "cell_type": "markdown",
   "id": "fec46b6e-1fb3-4e91-81ef-065a873a7314",
   "metadata": {},
   "source": [
    "#### Type Conversion\n",
    "You can convert from one type to another with the int(), float(), and complex() methods:"
   ]
  },
  {
   "cell_type": "code",
   "execution_count": 20,
   "id": "30897623-ea0e-472c-bea1-c37b4dea5606",
   "metadata": {},
   "outputs": [
    {
     "name": "stdout",
     "output_type": "stream",
     "text": [
      "1.0\n",
      "2\n",
      "(1+0j)\n",
      "<class 'float'>\n",
      "<class 'int'>\n",
      "<class 'complex'>\n"
     ]
    }
   ],
   "source": [
    "x = 1    # int\n",
    "y = 2.8  # float\n",
    "z = 1j   # complex\n",
    "\n",
    "#convert from int to float:\n",
    "a = float(x)\n",
    "\n",
    "#convert from float to int:\n",
    "b = int(y)\n",
    "\n",
    "#convert from int to complex:\n",
    "c = complex(x)\n",
    "\n",
    "print(a)\n",
    "print(b)\n",
    "print(c)\n",
    "\n",
    "print(type(a))\n",
    "print(type(b))\n",
    "print(type(c))"
   ]
  },
  {
   "cell_type": "markdown",
   "id": "5c0d22b1-a8b4-4785-9e58-a1f03c857267",
   "metadata": {},
   "source": [
    "### Sequence Type"
   ]
  },
  {
   "cell_type": "code",
   "execution_count": 22,
   "id": "5de42d00-4820-4c82-b98c-09cd09cc740b",
   "metadata": {},
   "outputs": [
    {
     "name": "stdout",
     "output_type": "stream",
     "text": [
      "<class 'list'>\n",
      "<class 'tuple'>\n",
      "<class 'dict'>\n",
      "<class 'set'>\n"
     ]
    }
   ],
   "source": [
    "li=[1,2,'mango', \"R\", 5,True, 3+2j]\n",
    "tup=(1,2,'mango', \"R\", 5,True, 3+2j)\n",
    "dict={1:'one', 2:'two',3:'Three'}\n",
    "set={'a','b','c','d','e','f'}\n",
    "print(type(li))\n",
    "print(type(tup))\n",
    "print(type(dict))\n",
    "print(type(set))"
   ]
  },
  {
   "cell_type": "code",
   "execution_count": 23,
   "id": "8821cf2e-598c-4518-9d74-fae84a508019",
   "metadata": {},
   "outputs": [
    {
     "name": "stdout",
     "output_type": "stream",
     "text": [
      "<class 'bool'>\n",
      "<class 'bool'>\n",
      "<class 'NoneType'>\n"
     ]
    }
   ],
   "source": [
    "a=True\n",
    "b=False\n",
    "c=None\n",
    "print(type(a))\n",
    "print(type(b))\n",
    "print(type(c))"
   ]
  },
  {
   "cell_type": "markdown",
   "id": "58e8eccb-bee7-4f41-8584-d030933ae43c",
   "metadata": {},
   "source": [
    "### Python Operators\n",
    "Operators are used to perform operations on variables and values.\n",
    "\n",
    "In the example below, we use the + operator to add together two values:"
   ]
  },
  {
   "cell_type": "code",
   "execution_count": 24,
   "id": "c2e0de6a-2c7e-495d-a73c-21945f51b180",
   "metadata": {},
   "outputs": [
    {
     "name": "stdout",
     "output_type": "stream",
     "text": [
      "15\n"
     ]
    }
   ],
   "source": [
    "print(10 + 5)"
   ]
  },
  {
   "cell_type": "markdown",
   "id": "799ea213-fbbc-4f4d-8c6d-a689d4c813af",
   "metadata": {},
   "source": [
    "#### Python divides the operators in the following groups:\n",
    "\n",
    "- Arithmetic operators\n",
    "- Assignment operators\n",
    "- Comparison operators\n",
    "- Logical operators\n",
    "- Identity operators\n",
    "- Membership operators\n",
    "- Bitwise operators"
   ]
  },
  {
   "cell_type": "markdown",
   "id": "cef823a5-754a-4789-80c6-aa115ac2de3b",
   "metadata": {},
   "source": [
    "#### 1: Arithmetic Operators "
   ]
  },
  {
   "cell_type": "markdown",
   "id": "1725bb0e-5187-42b6-8bb2-f78d7bf86ff3",
   "metadata": {},
   "source": [
    "a = 7\n",
    "b = 2\n",
    "print ('Sum: ', a + b)  \n",
    "print ('Subtraction: ', a - b)   \n",
    "print ('Multiplication: ', a * b)  \n",
    "print ('Division: ', a / b) \n",
    "print ('Floor Division: ', a // b)\n",
    "print ('Modulo: ', a % b)  \n",
    "print ('Power: ', a ** b)   "
   ]
  },
  {
   "cell_type": "markdown",
   "id": "471ac825-ec87-4a3b-b2b1-41f296dc79fb",
   "metadata": {},
   "source": [
    "#### 2: Assignment Operators"
   ]
  },
  {
   "cell_type": "code",
   "execution_count": 27,
   "id": "c822ef69-3506-4874-a9b3-f52ec068730c",
   "metadata": {},
   "outputs": [
    {
     "name": "stdout",
     "output_type": "stream",
     "text": [
      "15\n"
     ]
    }
   ],
   "source": [
    "a = 10\n",
    "b = 5 \n",
    "a += b      # a = a + b\n",
    "print(a)"
   ]
  },
  {
   "cell_type": "markdown",
   "id": "0ea022ca-4e0e-4539-9ecd-02bc17cc278e",
   "metadata": {},
   "source": [
    "### 3. Python Comparison Operators"
   ]
  },
  {
   "cell_type": "code",
   "execution_count": 28,
   "id": "1ac7b508-b30a-49da-8f1d-58648540f7b5",
   "metadata": {},
   "outputs": [
    {
     "name": "stdout",
     "output_type": "stream",
     "text": [
      "a == b = False\n",
      "a != b = True\n",
      "a > b = True\n",
      "a < b = False\n",
      "a >= b = True\n",
      "a <= b = False\n"
     ]
    }
   ],
   "source": [
    "a = 5\n",
    "b = 2\n",
    "print('a == b =', a == b)\n",
    "print('a != b =', a != b)\n",
    "print('a > b =', a > b)\n",
    "print('a < b =', a < b)\n",
    "print('a >= b =', a >= b)\n",
    "print('a <= b =', a <= b)"
   ]
  },
  {
   "cell_type": "markdown",
   "id": "e35498cf-f296-4a6e-aecd-557b88a3121f",
   "metadata": {},
   "source": [
    "### 4. Python Logical Operators"
   ]
  },
  {
   "cell_type": "code",
   "execution_count": 29,
   "id": "2cedea09-a945-47db-a512-d862698c8ede",
   "metadata": {},
   "outputs": [
    {
     "name": "stdout",
     "output_type": "stream",
     "text": [
      "True\n",
      "False\n",
      "True\n",
      "False\n"
     ]
    }
   ],
   "source": [
    "print(True and True)     # True\n",
    "print(True and False)    # False\n",
    "print(True or False)     # True\n",
    "print(not True)          # False"
   ]
  },
  {
   "cell_type": "markdown",
   "id": "b62b3eac-8e12-48d4-97df-26976fd82afa",
   "metadata": {},
   "source": [
    "### 5. Python Bitwise operators"
   ]
  },
  {
   "cell_type": "code",
   "execution_count": 30,
   "id": "3945ef3a-afd1-4f0f-94fe-441a689665a0",
   "metadata": {},
   "outputs": [
    {
     "name": "stdout",
     "output_type": "stream",
     "text": [
      "2\n",
      "14\n",
      "-11\n",
      "12\n",
      "40\n",
      "5\n"
     ]
    }
   ],
   "source": [
    "a=10\n",
    "b=6\n",
    "print(a & b)\n",
    "print(a | b)\n",
    "print(~a)\n",
    "print(a ^ b)\n",
    "print(a << 2)\n",
    "print(a >> 1)"
   ]
  },
  {
   "cell_type": "markdown",
   "id": "44f7c040-36f3-4d50-a566-363e16aca5fa",
   "metadata": {},
   "source": [
    "#### 6. Identity operators in Python"
   ]
  },
  {
   "cell_type": "code",
   "execution_count": 31,
   "id": "6dbaca3a-09cc-4b71-a663-6a55702a42eb",
   "metadata": {},
   "outputs": [
    {
     "name": "stdout",
     "output_type": "stream",
     "text": [
      "False\n",
      "True\n",
      "False\n"
     ]
    }
   ],
   "source": [
    "x1 = 5\n",
    "y1 = 5\n",
    "x2 = 'Hello'\n",
    "y2 = 'Hello'\n",
    "x3 = [1,2,3]\n",
    "y3 = [1,2,3]\n",
    "print(x1 is not y1)  # prints False\n",
    "print(x2 is y2)  # prints True\n",
    "print(x3 is y3)  # prints False"
   ]
  },
  {
   "cell_type": "markdown",
   "id": "228cbd30-0ff8-4ac9-9996-71878066bd03",
   "metadata": {},
   "source": [
    "#### 7. Membership operators"
   ]
  },
  {
   "cell_type": "code",
   "execution_count": 32,
   "id": "7d8b9ca8-f58e-4eb9-b9d9-f1d27a749acb",
   "metadata": {},
   "outputs": [
    {
     "name": "stdout",
     "output_type": "stream",
     "text": [
      "True\n",
      "True\n",
      "True\n",
      "False\n"
     ]
    }
   ],
   "source": [
    "message = 'Hello world'\n",
    "dict1 = {1:'a', 2:'b'}\n",
    "\n",
    "# check if 'H' is present in message string\n",
    "print('H' in message)  # prints True\n",
    "\n",
    "# check if 'hello' is present in message string\n",
    "print('hello' not in message)  # prints True\n",
    "\n",
    "# check if '1' key is present in dict1\n",
    "print(1 in dict1)  # prints True\n",
    "\n",
    "# check if 'a' key is present in dict1\n",
    "print('a' in dict1)  # prints False"
   ]
  },
  {
   "cell_type": "markdown",
   "id": "a39203be",
   "metadata": {},
   "source": [
    "<center><h1> Happy Learning"
   ]
  }
 ],
 "metadata": {
  "kernelspec": {
   "display_name": "Python 3 (ipykernel)",
   "language": "python",
   "name": "python3"
  },
  "language_info": {
   "codemirror_mode": {
    "name": "ipython",
    "version": 3
   },
   "file_extension": ".py",
   "mimetype": "text/x-python",
   "name": "python",
   "nbconvert_exporter": "python",
   "pygments_lexer": "ipython3",
   "version": "3.9.17"
  }
 },
 "nbformat": 4,
 "nbformat_minor": 5
}
