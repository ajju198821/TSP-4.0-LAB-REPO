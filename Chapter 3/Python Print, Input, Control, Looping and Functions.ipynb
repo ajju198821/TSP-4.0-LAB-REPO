{
 "cells": [
  {
   "attachments": {
    "image.png": {
     "image/png": "[encoded data removed]"
    }
   },
   "cell_type": "markdown",
   "id": "628bbb9c",
   "metadata": {},
   "source": [
    "![image.png](attachment:image.png)"
   ]
  },
  {
   "cell_type": "markdown",
   "id": "3a129e56",
   "metadata": {},
   "source": [
    "# Edunet Foundation : Class Room Exercises"
   ]
  },
  {
   "cell_type": "markdown",
   "id": "2fbdb793",
   "metadata": {},
   "source": [
    "# Lab # : Python Print, Input, Control, Looping and Functions\n",
    "\n",
    "### Objective:\n",
    "\n",
    "The objective of this practical on Python Print, Input, Control, Looping, and Functions is to equip learners with essential programming skills for interactive and dynamic Python applications. By the end of this lesson, learners will be able to:\n",
    "\n",
    "- Utilize the `print` function to display output to the console.\n",
    "- Use the input function to capture user `input` and store it in variables.\n",
    "- Implement control flow statements such as `if, elif, and else` to make decisions in their programs.\n",
    "- Employ looping constructs like `for and while` loops to iterate over data and perform repetitive tasks efficiently.\n",
    "- Define and call functions to encapsulate code into reusable blocks, improving code organization and readability.\n",
    "\n",
    "This knowledge will empower you to create interactive programs, handle dynamic input, and structure their code effectively for better maintainability and scalability."
   ]
  },
  {
   "cell_type": "markdown",
   "id": "5b155ee4-d233-4aa0-a9cb-414fd0486066",
   "metadata": {},
   "source": [
    "### print() Function"
   ]
  },
  {
   "cell_type": "markdown",
   "id": "b3f2065e-23b9-47d4-899d-59fe0b253231",
   "metadata": {},
   "source": [
    "The print() function prints the specified message to the screen, or other standard output device.\n",
    "\n",
    "The message can be a string, or any other object, the object will be converted into a string before written to the screen."
   ]
  },
  {
   "cell_type": "markdown",
   "id": "71700c1a-ed32-4293-829a-e768653416c4",
   "metadata": {},
   "source": [
    "#### Syntax"
   ]
  },
  {
   "cell_type": "markdown",
   "id": "fdd6ab5a-cfb6-4bc9-a6bb-c7db58ab70bf",
   "metadata": {},
   "source": [
    "print(object(s), sep=separator, end=end, file=file, flush=flush)"
   ]
  },
  {
   "cell_type": "code",
   "execution_count": 2,
   "id": "547f42df-bf9a-44ec-b3e0-371faaf4ccf7",
   "metadata": {},
   "outputs": [
    {
     "name": "stdout",
     "output_type": "stream",
     "text": [
      "Hello how are you?\n"
     ]
    }
   ],
   "source": [
    "print(\"Hello\", \"how are you?\")"
   ]
  },
  {
   "cell_type": "code",
   "execution_count": 3,
   "id": "f0e152a4-9fd8-434d-9b5f-8d7a7d01270b",
   "metadata": {},
   "outputs": [
    {
     "name": "stdout",
     "output_type": "stream",
     "text": [
      "('apple', 'banana', 'cherry')\n"
     ]
    }
   ],
   "source": [
    "x = (\"apple\", \"banana\", \"cherry\")\n",
    "print(x)"
   ]
  },
  {
   "cell_type": "code",
   "execution_count": 4,
   "id": "73fc9079-4918-482d-a190-b2fac334c82a",
   "metadata": {},
   "outputs": [
    {
     "name": "stdout",
     "output_type": "stream",
     "text": [
      "Hello---how are you?\n"
     ]
    }
   ],
   "source": [
    "print(\"Hello\", \"how are you?\", sep=\"---\")"
   ]
  },
  {
   "cell_type": "markdown",
   "id": "ebbc2bfb-ea81-428f-bb86-e19f9ca87868",
   "metadata": {},
   "source": [
    "#### Output Formatting"
   ]
  },
  {
   "cell_type": "markdown",
   "id": "f3eb1a03-31e6-483f-a7e9-1e344bc36fae",
   "metadata": {},
   "source": [
    "#### Formatting Output using String Modulo Operator (%)\n",
    "The % operator helps us to format the string. It interprets the left argument like printf() format string applied to the right argument. Python doesn't provide the printf() function."
   ]
  },
  {
   "cell_type": "code",
   "execution_count": 5,
   "id": "f90b2efc-e20c-4610-bc89-f150001592fc",
   "metadata": {},
   "outputs": [
    {
     "name": "stdout",
     "output_type": "stream",
     "text": [
      "integer :  1, float :  5.33\n",
      "Total Player :  24, Batsman :  12\n",
      "  062\n",
      "  4.56E+02\n"
     ]
    }
   ],
   "source": [
    "#integer and float value  \n",
    "print(\"integer : % 2d, float : % 5.2f\" %(1, 05.333))    \n",
    "#integer value  \n",
    "print(\"Total Player : % 3d, Batsman : % 2d\" %(24, 12))   \n",
    "#octal value  \n",
    "print(\"% 5.3o\"% (50))   \n",
    "#exponential value  \n",
    "print(\"% 10.2E\"% (456.1458))  "
   ]
  },
  {
   "cell_type": "markdown",
   "id": "577ae615-f166-4ad8-8701-aa2118446878",
   "metadata": {},
   "source": [
    "#### Formatting Output Using the Format Method\n",
    "The format() method takes more manual effort than other methods. We use {} to mark the substitution of variables and provide detailed formatting directives, but we also need to provide the formatted information. "
   ]
  },
  {
   "cell_type": "code",
   "execution_count": 7,
   "id": "030c3f12-a07b-48a1-a580-46efe6962820",
   "metadata": {},
   "outputs": [
    {
     "name": "stdout",
     "output_type": "stream",
     "text": [
      "Hello World\n",
      "Welcome to Edunet\n",
      "Edunet to Welcome\n"
     ]
    }
   ],
   "source": [
    "# using format() method   \n",
    "print('{} {}'.format('Hello', 'World'))   \n",
    "    \n",
    "# using format() method and referring    \n",
    "# a position of the object   \n",
    "print('{0} to {1}'.format('Welcome', 'Edunet'))   \n",
    "print('{1} to {0}'.format('Welcome', 'Edunet'))  "
   ]
  },
  {
   "cell_type": "markdown",
   "id": "ad121e61-b85e-4323-ab42-f149acaf8ca9",
   "metadata": {},
   "source": [
    "### input() Function"
   ]
  },
  {
   "cell_type": "code",
   "execution_count": 8,
   "id": "b509a836-41d6-4e70-83b0-5049a33a787c",
   "metadata": {},
   "outputs": [
    {
     "name": "stdout",
     "output_type": "stream",
     "text": [
      "Enter your name:\n"
     ]
    },
    {
     "name": "stdin",
     "output_type": "stream",
     "text": [
      " Sarvesh\n"
     ]
    },
    {
     "name": "stdout",
     "output_type": "stream",
     "text": [
      "Hello, Sarvesh\n"
     ]
    }
   ],
   "source": [
    "print('Enter your name:')\n",
    "x = input()\n",
    "print('Hello, ' + x)"
   ]
  },
  {
   "cell_type": "markdown",
   "id": "ab20553b-53a0-4bfc-8703-613054af352b",
   "metadata": {},
   "source": [
    "#### Definition and Usage\n",
    "The input() function allows user input."
   ]
  },
  {
   "cell_type": "markdown",
   "id": "3a3874f6-feee-4391-b171-c137506981d0",
   "metadata": {},
   "source": [
    "#### Syntax"
   ]
  },
  {
   "cell_type": "markdown",
   "id": "c5798673-9406-4a00-8c9a-60362a92907a",
   "metadata": {},
   "source": [
    "input(prompt)"
   ]
  },
  {
   "cell_type": "code",
   "execution_count": 11,
   "id": "7d2a11e5-f037-4f2e-9449-ef73a6b5e068",
   "metadata": {},
   "outputs": [
    {
     "name": "stdin",
     "output_type": "stream",
     "text": [
      "Enter your name: Pranav\n"
     ]
    },
    {
     "name": "stdout",
     "output_type": "stream",
     "text": [
      "Hello, Pranav\n"
     ]
    }
   ],
   "source": [
    "x = input('Enter your name:')\n",
    "print('Hello, ' + x)"
   ]
  },
  {
   "cell_type": "code",
   "execution_count": 12,
   "id": "6aa8cb54-507b-44d3-825c-2a8691456c83",
   "metadata": {},
   "outputs": [
    {
     "name": "stdin",
     "output_type": "stream",
     "text": [
      "Please Enter First Number:  5\n",
      "Please Enter Second Number:  7\n"
     ]
    },
    {
     "name": "stdout",
     "output_type": "stream",
     "text": [
      "The sum of the two given numbers is 12 \n"
     ]
    }
   ],
   "source": [
    "# Taking number 1 from user as int\n",
    "num1 = int(input(\"Please Enter First Number: \"))\n",
    "\n",
    "# Taking number 2 from user as int\n",
    "num2 = int(input(\"Please Enter Second Number: \"))\n",
    " \n",
    "# adding num1 and num2 and storing them in\n",
    "# variable addition\n",
    "addition = num1 + num2\n",
    " \n",
    "# printing\n",
    "print(\"The sum of the two given numbers is {} \".format(addition))"
   ]
  },
  {
   "cell_type": "markdown",
   "id": "9813e614-80cd-4a84-924c-3b5da74186b7",
   "metadata": {},
   "source": [
    "### if Statement"
   ]
  },
  {
   "cell_type": "code",
   "execution_count": 16,
   "id": "9b412959-2d8e-44cb-b4ff-be3debeff0be",
   "metadata": {},
   "outputs": [
    {
     "name": "stdout",
     "output_type": "stream",
     "text": [
      "Number is positive\n",
      "This statement always executes\n"
     ]
    }
   ],
   "source": [
    "number = 10\n",
    "\n",
    "# check if number is greater than 0\n",
    "if number > 0:\n",
    "    print('Number is positive')\n",
    "\n",
    "print('This statement always executes')"
   ]
  },
  {
   "cell_type": "markdown",
   "id": "4de6ab95-5cf7-4868-8be2-b567ca8a7d77",
   "metadata": {},
   "source": [
    "### if...else Statement"
   ]
  },
  {
   "cell_type": "code",
   "execution_count": 17,
   "id": "6a60272d-f3e0-45be-a6f8-271319a198fa",
   "metadata": {},
   "outputs": [
    {
     "name": "stdout",
     "output_type": "stream",
     "text": [
      "Positive number\n",
      "This statement always executes\n"
     ]
    }
   ],
   "source": [
    "number = 10\n",
    "\n",
    "if number > 0:\n",
    "    print('Positive number')\n",
    "\n",
    "else:\n",
    "    print('Negative number')\n",
    "\n",
    "print('This statement always executes')"
   ]
  },
  {
   "cell_type": "code",
   "execution_count": 18,
   "id": "0dec2a7d-db6d-4be1-bbe0-0f4396c7de27",
   "metadata": {},
   "outputs": [
    {
     "name": "stdout",
     "output_type": "stream",
     "text": [
      "Negative number\n",
      "This statement always executes\n"
     ]
    }
   ],
   "source": [
    "number = -5\n",
    "\n",
    "if number > 0:\n",
    "    print('Positive number')\n",
    "\n",
    "else:\n",
    "    print('Negative number')\n",
    "\n",
    "print('This statement always executes')"
   ]
  },
  {
   "cell_type": "markdown",
   "id": "6060be1c-cc48-4d79-a1c3-987b841a62d9",
   "metadata": {},
   "source": [
    "### if…elif…else Statement"
   ]
  },
  {
   "cell_type": "code",
   "execution_count": 19,
   "id": "228906fc-3483-4c22-b873-6a111642547a",
   "metadata": {},
   "outputs": [
    {
     "name": "stdout",
     "output_type": "stream",
     "text": [
      "Zero\n",
      "This statement is always executed\n"
     ]
    }
   ],
   "source": [
    "number = 0\n",
    "\n",
    "if number > 0:\n",
    "    print('Positive number')\n",
    "\n",
    "elif number <0:\n",
    "    print('Negative number')\n",
    "\n",
    "else:\n",
    "    print('Zero')\n",
    "\n",
    "print('This statement is always executed')"
   ]
  },
  {
   "cell_type": "markdown",
   "id": "f4d8dd7c-a0a7-4b89-ab47-b900aa6ebad1",
   "metadata": {},
   "source": [
    "### Nested if Statements"
   ]
  },
  {
   "cell_type": "code",
   "execution_count": 20,
   "id": "91961fc1-9889-4b59-bfcb-ff6fd0ee591a",
   "metadata": {},
   "outputs": [
    {
     "name": "stdout",
     "output_type": "stream",
     "text": [
      "Number is positive\n"
     ]
    }
   ],
   "source": [
    "number = 5\n",
    "\n",
    "# outer if statement\n",
    "if number >= 0:\n",
    "    # inner if statement\n",
    "    if number == 0:\n",
    "      print('Number is 0')\n",
    "    \n",
    "    # inner else statement\n",
    "    else:\n",
    "        print('Number is positive')\n",
    "\n",
    "# outer else statement\n",
    "else:\n",
    "    print('Number is negative')"
   ]
  },
  {
   "cell_type": "markdown",
   "id": "6f5aeec0-8a23-48a7-acf7-1c26daeceb5b",
   "metadata": {},
   "source": [
    "### for Loop"
   ]
  },
  {
   "cell_type": "code",
   "execution_count": 21,
   "id": "b25c4dc3-1097-4bda-a9a5-6d6392dea9e8",
   "metadata": {},
   "outputs": [
    {
     "name": "stdout",
     "output_type": "stream",
     "text": [
      "Swift\n",
      "Python\n",
      "Go\n"
     ]
    }
   ],
   "source": [
    "languages = ['Swift', 'Python', 'Go']\n",
    "\n",
    "# access elements of the list one by one\n",
    "for i in languages:\n",
    "    print(i)"
   ]
  },
  {
   "cell_type": "code",
   "execution_count": 22,
   "id": "77ab457b-fb63-4916-9866-1a3c6aa2c631",
   "metadata": {},
   "outputs": [
    {
     "name": "stdout",
     "output_type": "stream",
     "text": [
      "P\n",
      "y\n",
      "t\n",
      "h\n",
      "o\n",
      "n\n"
     ]
    }
   ],
   "source": [
    "language = 'Python'\n",
    "\n",
    "# iterate over each character in language\n",
    "for x in language:\n",
    "    print(x)"
   ]
  },
  {
   "cell_type": "markdown",
   "id": "b2384b4e-1e5f-44a4-b736-ac8d221332e8",
   "metadata": {},
   "source": [
    "### for Loop with Python range()"
   ]
  },
  {
   "cell_type": "code",
   "execution_count": 23,
   "id": "33d88e4b-987f-4b2b-af13-1ae79052ecda",
   "metadata": {},
   "outputs": [
    {
     "name": "stdout",
     "output_type": "stream",
     "text": [
      "0\n",
      "1\n",
      "2\n",
      "3\n"
     ]
    }
   ],
   "source": [
    "# iterate from i = 0 to i = 3\n",
    "for i in range(4):\n",
    "    print(i)"
   ]
  },
  {
   "cell_type": "code",
   "execution_count": 24,
   "id": "3912849a-081c-4f43-b3a8-4e8cdb71651a",
   "metadata": {},
   "outputs": [
    {
     "name": "stdout",
     "output_type": "stream",
     "text": [
      "2\n",
      "3\n",
      "4\n",
      "5\n"
     ]
    }
   ],
   "source": [
    "for x in range(2, 6):\n",
    "  print(x)"
   ]
  },
  {
   "cell_type": "code",
   "execution_count": 26,
   "id": "cb617351-aee8-47f6-acfe-af08e8070601",
   "metadata": {},
   "outputs": [
    {
     "name": "stdout",
     "output_type": "stream",
     "text": [
      "2 5 8 11 14 17 20 23 26 29 "
     ]
    }
   ],
   "source": [
    "for x in range(2, 30, 3):\n",
    "  print(x, end=' ')"
   ]
  },
  {
   "cell_type": "markdown",
   "id": "8feaea43-d8e1-4aa4-b15a-3a70f9f668fc",
   "metadata": {},
   "source": [
    "### The pass Statement\n",
    "for loops cannot be empty, but if you for some reason have a for loop with no content, put in the pass statement to avoid getting an error."
   ]
  },
  {
   "cell_type": "code",
   "execution_count": 27,
   "id": "cf1e0770-2ade-405c-b169-2fbacc427089",
   "metadata": {},
   "outputs": [],
   "source": [
    "for x in [0, 1, 2]:\n",
    "  pass"
   ]
  },
  {
   "cell_type": "markdown",
   "id": "c657d4b5-7597-4873-a9fc-2bd44301dbe5",
   "metadata": {},
   "source": [
    "### while loop"
   ]
  },
  {
   "cell_type": "code",
   "execution_count": 28,
   "id": "55e1fa0a-62d0-4e68-8add-1bab3f0b1095",
   "metadata": {},
   "outputs": [
    {
     "name": "stdout",
     "output_type": "stream",
     "text": [
      "The count is: 0\n",
      "The count is: 1\n",
      "The count is: 2\n",
      "The count is: 3\n",
      "The count is: 4\n",
      "The count is: 5\n",
      "The count is: 6\n",
      "The count is: 7\n",
      "The count is: 8\n",
      "The count is: 9\n",
      "Good bye!\n"
     ]
    }
   ],
   "source": [
    "count = 0\n",
    "while (count < 10):\n",
    " print ('The count is:', count)\n",
    " count = count + 1\n",
    "print (\"Good bye!\")"
   ]
  },
  {
   "cell_type": "code",
   "execution_count": 29,
   "id": "0b617c23-68a3-4ece-8599-49bfc739ac31",
   "metadata": {},
   "outputs": [
    {
     "name": "stdout",
     "output_type": "stream",
     "text": [
      "2  is prime\n",
      "3  is prime\n",
      "5  is prime\n",
      "7  is prime\n",
      "11  is prime\n",
      "13  is prime\n",
      "17  is prime\n",
      "19  is prime\n",
      "23  is prime\n",
      "29  is prime\n",
      "31  is prime\n",
      "37  is prime\n",
      "41  is prime\n",
      "43  is prime\n",
      "47  is prime\n",
      "53  is prime\n",
      "59  is prime\n",
      "61  is prime\n",
      "67  is prime\n",
      "71  is prime\n",
      "73  is prime\n",
      "79  is prime\n",
      "83  is prime\n",
      "89  is prime\n",
      "97  is prime\n",
      "Good bye!\n"
     ]
    }
   ],
   "source": [
    "i = 2\n",
    "while(i < 100):\n",
    " j = 2\n",
    " while(j <= (i/j)):\n",
    "   if not(i%j): break\n",
    "   j = j + 1\n",
    " if (j > i/j) : print (i, \" is prime\")\n",
    " i = i + 1\n",
    "print (\"Good bye!\")"
   ]
  },
  {
   "cell_type": "markdown",
   "id": "a87515e8-d88d-49ea-8dec-a36fa2764a18",
   "metadata": {},
   "source": [
    "### Loop Control Statements"
   ]
  },
  {
   "cell_type": "markdown",
   "id": "54d484d3-3659-415e-b7d2-5c4ac52f52d7",
   "metadata": {},
   "source": [
    "### Break"
   ]
  },
  {
   "cell_type": "code",
   "execution_count": 31,
   "id": "3d0eb018-8894-47cf-97f4-9d7f8f1557ea",
   "metadata": {},
   "outputs": [
    {
     "name": "stdout",
     "output_type": "stream",
     "text": [
      "0\n",
      "1\n",
      "2\n",
      "3\n",
      "4\n"
     ]
    }
   ],
   "source": [
    "for i in range(10):\n",
    "  if i == 5:\n",
    "    break\n",
    "  print(i)"
   ]
  },
  {
   "cell_type": "markdown",
   "id": "6e7af075-a875-4e49-b904-a7bcfdb5b410",
   "metadata": {},
   "source": [
    "### Continue"
   ]
  },
  {
   "cell_type": "code",
   "execution_count": 32,
   "id": "9b14fa48-3898-457d-bcee-488573730dc0",
   "metadata": {},
   "outputs": [
    {
     "name": "stdout",
     "output_type": "stream",
     "text": [
      "1\n",
      "3\n",
      "5\n",
      "7\n",
      "9\n"
     ]
    }
   ],
   "source": [
    "for i in range(10):\n",
    "  if i % 2 == 0:\n",
    "    continue\n",
    "  print(i)"
   ]
  },
  {
   "cell_type": "markdown",
   "id": "4af7b10f-0c84-4133-bcae-5107aaecce65",
   "metadata": {},
   "source": [
    "### Pass"
   ]
  },
  {
   "cell_type": "code",
   "execution_count": 33,
   "id": "667a512e-f7f8-4121-92fa-f0a5f0e55d60",
   "metadata": {},
   "outputs": [],
   "source": [
    "for i in range(10):\n",
    "  # Do nothing\n",
    "  pass"
   ]
  },
  {
   "cell_type": "markdown",
   "id": "7ef6b9d8-d005-4c6b-a992-8ade90dfbd05",
   "metadata": {},
   "source": [
    "### Functions"
   ]
  },
  {
   "cell_type": "markdown",
   "id": "41c2d177-9acd-4815-91d1-321df3a57c36",
   "metadata": {},
   "source": [
    "A function is a block of code which only runs when it is called.\n",
    "You can pass data, known as parameters, into a function.\n",
    "A function can return data as a result.\n"
   ]
  },
  {
   "attachments": {
    "3a664190-d757-483e-b09b-6f230b4d87c5.png": {
     "image/png": "[encoded data removed]"
    }
   },
   "cell_type": "markdown",
   "id": "e4fc4d3e-a585-4b09-83f2-ef63c531977f",
   "metadata": {},
   "source": [
    "![image.png](attachment:3a664190-d757-483e-b09b-6f230b4d87c5.png)"
   ]
  },
  {
   "cell_type": "code",
   "execution_count": 34,
   "id": "20c57d4e-e4ec-4b71-a821-9e11c67cab3a",
   "metadata": {},
   "outputs": [],
   "source": [
    "def greet():\n",
    "    print('Hello World!')"
   ]
  },
  {
   "cell_type": "code",
   "execution_count": 35,
   "id": "27bf5e19-3745-46dc-b683-d5f16adeb025",
   "metadata": {},
   "outputs": [
    {
     "name": "stdout",
     "output_type": "stream",
     "text": [
      "Hello World!\n"
     ]
    }
   ],
   "source": [
    "greet()"
   ]
  },
  {
   "cell_type": "code",
   "execution_count": 36,
   "id": "6725f379-8ebd-4b4c-9a93-8b8674be0206",
   "metadata": {},
   "outputs": [
    {
     "name": "stdout",
     "output_type": "stream",
     "text": [
      "Hello World!\n",
      "Outside function\n"
     ]
    }
   ],
   "source": [
    "def greet():\n",
    "    print('Hello World!')\n",
    "\n",
    "# call the function\n",
    "greet()\n",
    "\n",
    "print('Outside function')"
   ]
  },
  {
   "cell_type": "code",
   "execution_count": 37,
   "id": "38929a81-fea9-4d77-8be7-3edcabd39444",
   "metadata": {},
   "outputs": [
    {
     "name": "stdout",
     "output_type": "stream",
     "text": [
      "Sum:  9\n"
     ]
    }
   ],
   "source": [
    "# function with two arguments\n",
    "def add_numbers(num1, num2):\n",
    "    sum = num1 + num2\n",
    "    print(\"Sum: \", sum)\n",
    "\n",
    "# function call with two values\n",
    "add_numbers(5, 4)"
   ]
  },
  {
   "cell_type": "code",
   "execution_count": 38,
   "id": "8d404021-6af0-4315-b7d3-9c441967edd1",
   "metadata": {},
   "outputs": [
    {
     "name": "stdout",
     "output_type": "stream",
     "text": [
      "Square: 9\n"
     ]
    }
   ],
   "source": [
    "# function definition\n",
    "def find_square(num):\n",
    "    result = num * num\n",
    "    return result\n",
    "\n",
    "# function call\n",
    "square = find_square(3)\n",
    "\n",
    "print('Square:', square)"
   ]
  },
  {
   "cell_type": "markdown",
   "id": "874f7de2-8573-4a4a-ac40-4282be8573ee",
   "metadata": {},
   "source": [
    "### Lambda/Anonymous Function"
   ]
  },
  {
   "cell_type": "markdown",
   "id": "fa74f8fd-09cf-4608-bcdf-47b3ee7878f4",
   "metadata": {},
   "source": [
    "lambda argument(s) : expression "
   ]
  },
  {
   "cell_type": "code",
   "execution_count": 39,
   "id": "7df5178a-622c-4cd3-8d9f-0020a375b1f9",
   "metadata": {},
   "outputs": [],
   "source": [
    "greet = lambda : print('Hello World')"
   ]
  },
  {
   "cell_type": "code",
   "execution_count": 40,
   "id": "a7671d63-0f39-4a65-8494-b5ab7ef519f5",
   "metadata": {},
   "outputs": [
    {
     "name": "stdout",
     "output_type": "stream",
     "text": [
      "Hello World\n"
     ]
    }
   ],
   "source": [
    "# call the lambda\n",
    "greet()"
   ]
  },
  {
   "cell_type": "code",
   "execution_count": 41,
   "id": "08d0c620-5a59-4f03-8985-17652a068647",
   "metadata": {},
   "outputs": [
    {
     "name": "stdout",
     "output_type": "stream",
     "text": [
      "30\n"
     ]
    }
   ],
   "source": [
    "x = lambda a, b : a * b\n",
    "print(x(5, 6))"
   ]
  },
  {
   "cell_type": "markdown",
   "id": "1099227d-10fe-4908-ae56-b7761c6d950e",
   "metadata": {},
   "source": [
    "### call by value"
   ]
  },
  {
   "cell_type": "code",
   "execution_count": 42,
   "id": "0ac303b0-1db8-4a95-ad53-92828c096434",
   "metadata": {},
   "outputs": [
    {
     "name": "stdout",
     "output_type": "stream",
     "text": [
      "Inside Function: Sarvesh\n",
      "Outside Function: Edunet\n"
     ]
    }
   ],
   "source": [
    "# Python code to demonstrate\n",
    "# call by value\n",
    "string = \"Edunet\"\n",
    " \n",
    "def test(string):\n",
    "    string = \"Sarvesh\"\n",
    "    print(\"Inside Function:\", string)\n",
    " \n",
    "# Driver's code\n",
    "test(string)\n",
    "print(\"Outside Function:\", string)"
   ]
  },
  {
   "cell_type": "markdown",
   "id": "c8bde319-a345-4e3c-bdfc-886a66f215af",
   "metadata": {},
   "source": [
    "### call by reference"
   ]
  },
  {
   "cell_type": "code",
   "execution_count": 43,
   "id": "20aeba3d-505a-4ca5-95d2-e2e3f7d9358d",
   "metadata": {},
   "outputs": [
    {
     "name": "stdout",
     "output_type": "stream",
     "text": [
      "Inside Function [10, 20, 30, 40, 50]\n",
      "Outside Function: [10, 20, 30, 40, 50]\n"
     ]
    }
   ],
   "source": [
    "# Python code to demonstrate\n",
    "# call by reference\n",
    " \n",
    "def add_more(list):\n",
    "    list.append(50)\n",
    "    print(\"Inside Function\", list)\n",
    " \n",
    "# Driver's code\n",
    "mylist = [10, 20, 30, 40]\n",
    " \n",
    "add_more(mylist)\n",
    "print(\"Outside Function:\", mylist)"
   ]
  },
  {
   "cell_type": "markdown",
   "id": "097fcdff",
   "metadata": {},
   "source": [
    "<center><h1> Happy Learning"
   ]
  }
 ],
 "metadata": {
  "kernelspec": {
   "display_name": "Python 3 (ipykernel)",
   "language": "python",
   "name": "python3"
  },
  "language_info": {
   "codemirror_mode": {
    "name": "ipython",
    "version": 3
   },
   "file_extension": ".py",
   "mimetype": "text/x-python",
   "name": "python",
   "nbconvert_exporter": "python",
   "pygments_lexer": "ipython3",
   "version": "3.9.17"
  }
 },
 "nbformat": 4,
 "nbformat_minor": 5
}
